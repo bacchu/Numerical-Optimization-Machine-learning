{
 "cells": [
  {
   "cell_type": "markdown",
   "metadata": {},
   "source": [
    "# Gaussian Elimination"
   ]
  },
  {
   "cell_type": "code",
   "execution_count": 4,
   "metadata": {},
   "outputs": [
    {
     "data": {
      "text/latex": [
       "$\n",
       "\n",
       "A=\n",
       "  \\begin{bmatrix}\n",
       "    2 & 1 & 5\\\\\n",
       "    4 & 4 & -4\\\\\n",
       "    1 & 3 & 1\n",
       "  \\end{bmatrix} \\;\n",
       "x = \\begin{bmatrix}\n",
       "    x_0 \\\\\n",
       "    x_1 \\\\\n",
       "    x_2\n",
       "  \\end{bmatrix} \\;\n",
       "\n",
       "\n",
       "b = \\begin{bmatrix}\n",
       "    8 \\\\\n",
       "    4 \\\\\n",
       "    5\n",
       "  \\end{bmatrix}\n",
       "\n",
       "$\n",
       "\n"
      ],
      "text/plain": [
       "<IPython.core.display.Latex object>"
      ]
     },
     "metadata": {},
     "output_type": "display_data"
    }
   ],
   "source": [
    "%%latex\n",
    "$\n",
    "\n",
    "A=\n",
    "  \\begin{bmatrix}\n",
    "    2 & 1 & 5\\\\\n",
    "    4 & 4 & -4\\\\\n",
    "    1 & 3 & 1\n",
    "  \\end{bmatrix} \\;\n",
    "x = \\begin{bmatrix}\n",
    "    x_0 \\\\\n",
    "    x_1 \\\\\n",
    "    x_2\n",
    "  \\end{bmatrix} \\;\n",
    "\n",
    "\n",
    "b = \\begin{bmatrix}\n",
    "    8 \\\\\n",
    "    4 \\\\\n",
    "    5\n",
    "  \\end{bmatrix}\n",
    "\n",
    "$\n",
    "\n"
   ]
  },
  {
   "cell_type": "code",
   "execution_count": 9,
   "metadata": {},
   "outputs": [
    {
     "data": {
      "text/latex": [
       "$\n",
       "\n",
       "[A|b]=\n",
       "\\left[\n",
       "  \\begin{array} {ccc|c}\n",
       "    2 & 1 & 5 & 8\\\\\n",
       "    4 & 4 & -4 & 4\\\\\n",
       "    1 & 3 & 1 & 5\\\\\n",
       "  \\end{array}\n",
       "\\right]\n",
       "\n",
       "$\n"
      ],
      "text/plain": [
       "<IPython.core.display.Latex object>"
      ]
     },
     "metadata": {},
     "output_type": "display_data"
    }
   ],
   "source": [
    "%%latex\n",
    "$\n",
    "\n",
    "[A|b]=\n",
    "\\left[\n",
    "  \\begin{array} {ccc|c}\n",
    "    2 & 1 & 5 & 8\\\\\n",
    "    4 & 4 & -4 & 4\\\\\n",
    "    1 & 3 & 1 & 5\\\\\n",
    "  \\end{array}\n",
    "\\right]\n",
    "\n",
    "$\n"
   ]
  },
  {
   "cell_type": "code",
   "execution_count": 1,
   "metadata": {
    "collapsed": true
   },
   "outputs": [],
   "source": [
    "import numpy as np"
   ]
  },
  {
   "cell_type": "code",
   "execution_count": 266,
   "metadata": {},
   "outputs": [],
   "source": [
    "def gaussian_partial(A, b):\n",
    "    \n",
    "    n = A.shape[0]\n",
    "    \n",
    "    C=np.c_[A,b.reshape(-1,1)]\n",
    "    \n",
    "    flag = 0\n",
    "    \n",
    "    #column\n",
    "    for i in range(n-1):\n",
    "            \n",
    "        max_c, chosen_k  = 0, i\n",
    "        \n",
    "        #find the pivot\n",
    "        for k in range(i, n):\n",
    "            if np.abs(C[k,i]) > max_c:\n",
    "                max_c = np.abs(C[k,i])\n",
    "                chosen_k = k\n",
    "         \n",
    "        #Check if the pivot is zero\n",
    "        if max_c == 0:\n",
    "            flag = 1\n",
    "            break\n",
    "        \n",
    "        #interchange rows\n",
    "        if chosen_k != i:\n",
    "            #Swap 2 rows\n",
    "            temp = C[i,:].copy()\n",
    "            C[i,:] = C[chosen_k,:]\n",
    "            C[chosen_k,:] = temp\n",
    "    \n",
    "        \n",
    "        #row\n",
    "        for j in range(i+1, n):\n",
    "            \n",
    "            c = C[j,i]/C[i,i]\n",
    "            C[j,:] = C[j,:] - c*C[i,:]\n",
    "            \n",
    "    return C, flag\n",
    "        "
   ]
  },
  {
   "cell_type": "code",
   "execution_count": 267,
   "metadata": {},
   "outputs": [],
   "source": [
    "def backsubstitution(T):\n",
    "    \n",
    "    flag=0\n",
    "    n = T.shape[0]\n",
    "    X = np.zeros((n))\n",
    "    if T[n-1,n-1] == 0:\n",
    "        flag = 1\n",
    "    \n",
    "    else:\n",
    "    \n",
    "        X[n-1] = T[n-1,n]/T[n-1,n-1] \n",
    "\n",
    "        for i in range(n-2,-1,-1):\n",
    "            #Sum in row i\n",
    "            s = 0\n",
    "            for j in range(i+1, n):\n",
    "                s += T[i,j]*X[j]\n",
    "\n",
    "            X[i] = (T[i,n] - s)/T[i,i]\n",
    "    \n",
    "    return X, flag"
   ]
  },
  {
   "cell_type": "code",
   "execution_count": 268,
   "metadata": {},
   "outputs": [],
   "source": [
    "A = np.array([[2, 1, 5],\n",
    "            [4, 4, -4],\n",
    "            [1, 3, 1]])\n",
    "b= np.array([8,4,5])"
   ]
  },
  {
   "cell_type": "code",
   "execution_count": 261,
   "metadata": {},
   "outputs": [
    {
     "data": {
      "text/plain": [
       "array([[ 2,  1,  5],\n",
       "       [ 4,  4, -4],\n",
       "       [ 1,  3,  1]])"
      ]
     },
     "execution_count": 261,
     "metadata": {},
     "output_type": "execute_result"
    }
   ],
   "source": [
    "A"
   ]
  },
  {
   "cell_type": "code",
   "execution_count": 262,
   "metadata": {},
   "outputs": [
    {
     "data": {
      "text/plain": [
       "array([8, 4, 5])"
      ]
     },
     "execution_count": 262,
     "metadata": {},
     "output_type": "execute_result"
    }
   ],
   "source": [
    "b"
   ]
  },
  {
   "cell_type": "code",
   "execution_count": 269,
   "metadata": {},
   "outputs": [
    {
     "name": "stdout",
     "output_type": "stream",
     "text": [
      "Solution: [1. 1. 1.]\n"
     ]
    }
   ],
   "source": [
    "T, err = gaussian_partial(A,b)\n",
    "\n",
    "if err:\n",
    "    print('Not unique solution')\n",
    "else:\n",
    "    X, err = backsubstitution(T)\n",
    "    if err:\n",
    "        print('Not unique solution')\n",
    "    else:\n",
    "        print('Solution:', X)"
   ]
  },
  {
   "cell_type": "code",
   "execution_count": 270,
   "metadata": {},
   "outputs": [
    {
     "data": {
      "text/plain": [
       "array([1., 1., 1.])"
      ]
     },
     "execution_count": 270,
     "metadata": {},
     "output_type": "execute_result"
    }
   ],
   "source": [
    "np.linalg.solve(A,b)"
   ]
  },
  {
   "cell_type": "code",
   "execution_count": 23,
   "metadata": {},
   "outputs": [
    {
     "data": {
      "text/latex": [
       "$\n",
       "height = x_0 \\cdot diameter\n",
       "$\n"
      ],
      "text/plain": [
       "<IPython.core.display.Latex object>"
      ]
     },
     "metadata": {},
     "output_type": "display_data"
    }
   ],
   "source": [
    "%%latex\n",
    "$\n",
    "height = x_0 \\cdot diameter\n",
    "$"
   ]
  },
  {
   "cell_type": "code",
   "execution_count": null,
   "metadata": {},
   "outputs": [],
   "source": [
    "x_2 = \\frac{4-2}{2} = 1"
   ]
  },
  {
   "cell_type": "code",
   "execution_count": null,
   "metadata": {},
   "outputs": [],
   "source": []
  }
 ],
 "metadata": {
  "kernelspec": {
   "display_name": "Python 3",
   "language": "python",
   "name": "python3"
  },
  "language_info": {
   "codemirror_mode": {
    "name": "ipython",
    "version": 3
   },
   "file_extension": ".py",
   "mimetype": "text/x-python",
   "name": "python",
   "nbconvert_exporter": "python",
   "pygments_lexer": "ipython3",
   "version": "3.7.6"
  }
 },
 "nbformat": 4,
 "nbformat_minor": 4
}
