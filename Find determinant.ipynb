{
 "cells": [
  {
   "cell_type": "markdown",
   "metadata": {},
   "source": [
    "# Find Determinant of a Matrix"
   ]
  },
  {
   "cell_type": "markdown",
   "metadata": {},
   "source": [
    "$A = \\begin{bmatrix}a & b \\\\ c & d \\end{bmatrix}$\n",
    "\n",
    "$det(A) = ad - bc$"
   ]
  },
  {
   "cell_type": "code",
   "execution_count": 1,
   "metadata": {},
   "outputs": [
    {
     "data": {
      "text/plain": [
       "1"
      ]
     },
     "execution_count": 1,
     "metadata": {},
     "output_type": "execute_result"
    }
   ],
   "source": [
    "import numpy as np\n",
    "\n",
    "#Find determinant of 2x2 matrix\n",
    "A = np.array([[2,3],[1,2]])\n",
    "\n",
    "A[0,0]*A[1,1] - A[1,0]*A[0,1]\n"
   ]
  },
  {
   "cell_type": "markdown",
   "metadata": {},
   "source": [
    "If the dimension is greater than 2, we use the recursion to find the determinant. \n",
    "\n",
    "Steps of finding the determinant:\n",
    "\n",
    "- Base case: when the determinant is equal to 2, we use the method discussed above\n",
    "- Else, we traverse the first row and find the determinant correspoding to the element we traverse"
   ]
  },
  {
   "cell_type": "code",
   "execution_count": 2,
   "metadata": {},
   "outputs": [],
   "source": [
    "def findDet(A, total = 0):\n",
    "    \n",
    "    dim = A.shape[0]\n",
    "    \n",
    "    if dim == 2:\n",
    "        det = A[0,0]*A[1,1] - A[1,0]*A[0,1]\n",
    "        return det\n",
    "    \n",
    "    else:\n",
    "     \n",
    "        \n",
    "        A1 = A.copy()\n",
    "\n",
    "        #Delete the first row\n",
    "        A1 = np.delete(A1,0,0)\n",
    "        \n",
    "        cols = A.shape[1]\n",
    "\n",
    "        for i in range(cols):\n",
    "        \n",
    "        #Delete the column corresponding to the position of the element traversed\n",
    "\n",
    "            A2 = np.delete(A1,i,1)\n",
    "\n",
    "            total += (-1)**i * A[0,i] * findDet(A2)\n",
    "            \n",
    "    return total\n",
    "            \n",
    "\n",
    "        \n",
    "        "
   ]
  },
  {
   "cell_type": "code",
   "execution_count": 3,
   "metadata": {},
   "outputs": [
    {
     "data": {
      "text/plain": [
       "-333.63083602663903"
      ]
     },
     "execution_count": 3,
     "metadata": {},
     "output_type": "execute_result"
    }
   ],
   "source": [
    "#Use Numpy.inalg.det() method to check our result\n",
    "A = np.random.normal(0,10,(3,3))\n",
    "np.linalg.det(A)"
   ]
  },
  {
   "cell_type": "code",
   "execution_count": 4,
   "metadata": {},
   "outputs": [
    {
     "data": {
      "text/plain": [
       "-333.6308360266394"
      ]
     },
     "execution_count": 4,
     "metadata": {},
     "output_type": "execute_result"
    }
   ],
   "source": [
    "findDet(A)"
   ]
  },
  {
   "cell_type": "code",
   "execution_count": null,
   "metadata": {},
   "outputs": [],
   "source": []
  }
 ],
 "metadata": {
  "kernelspec": {
   "display_name": "Python 3",
   "language": "python",
   "name": "python3"
  },
  "language_info": {
   "codemirror_mode": {
    "name": "ipython",
    "version": 3
   },
   "file_extension": ".py",
   "mimetype": "text/x-python",
   "name": "python",
   "nbconvert_exporter": "python",
   "pygments_lexer": "ipython3",
   "version": "3.8.1"
  }
 },
 "nbformat": 4,
 "nbformat_minor": 4
}
