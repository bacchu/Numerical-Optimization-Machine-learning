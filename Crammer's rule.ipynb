{
 "cells": [
  {
   "cell_type": "code",
   "execution_count": 3,
   "metadata": {},
   "outputs": [],
   "source": [
    "import numpy as np"
   ]
  },
  {
   "cell_type": "code",
   "execution_count": 4,
   "metadata": {},
   "outputs": [],
   "source": [
    "def findDet(A, total = 0):\n",
    "    \n",
    "    dim = A.shape[0]\n",
    "    \n",
    "    if dim == 2:\n",
    "        det = A[0,0]*A[1,1] - A[1,0]*A[0,1]\n",
    "        return det\n",
    "    \n",
    "    else:\n",
    "     \n",
    "        \n",
    "        A1 = A.copy()\n",
    "\n",
    "        #Delete the first row\n",
    "        A1 = np.delete(A1,0,0)\n",
    "        \n",
    "        cols = A.shape[1]\n",
    "\n",
    "        for i in range(cols):\n",
    "        \n",
    "        #Delete the column corresponding to the position of the element traversed\n",
    "\n",
    "            A2 = np.delete(A1,i,1)\n",
    "\n",
    "            total += (-1)**i * A[0,i] * findDet(A2)\n",
    "            \n",
    "    return total"
   ]
  },
  {
   "cell_type": "code",
   "execution_count": 20,
   "metadata": {},
   "outputs": [],
   "source": [
    "def crammer(A, b):\n",
    "    \n",
    "    n = A.shape[0]\n",
    "    X = np.zeros((n))\n",
    "    \n",
    "    D = findDet(A)\n",
    "    \n",
    "    for i in range(n):\n",
    "        \n",
    "        Ai = A.copy()\n",
    "        Ai[:,i] = b\n",
    "        \n",
    "        Di = findDet(Ai)\n",
    "        \n",
    "        X[i] = Di/D\n",
    "    \n",
    "    return X"
   ]
  },
  {
   "cell_type": "code",
   "execution_count": 25,
   "metadata": {},
   "outputs": [
    {
     "name": "stdout",
     "output_type": "stream",
     "text": [
      "[[ 1  1  0  3]\n",
      " [ 2  1 -1  1]\n",
      " [ 3 -1 -1  2]\n",
      " [-1  2  3 -1]]\n",
      "[ 4  1 -3  4]\n"
     ]
    }
   ],
   "source": [
    "A = np.array([[1,1,0,3],\n",
    "            [2,1,-1,1],\n",
    "            [3,-1,-1,2],\n",
    "            [-1,2,3,-1]])\n",
    "\n",
    "b = np.array([4,1,-3,4])\n",
    "\n",
    "print(A)\n",
    "print(b)"
   ]
  },
  {
   "cell_type": "code",
   "execution_count": 26,
   "metadata": {},
   "outputs": [
    {
     "data": {
      "text/plain": [
       "array([-1.,  2.,  0.,  1.])"
      ]
     },
     "execution_count": 26,
     "metadata": {},
     "output_type": "execute_result"
    }
   ],
   "source": [
    "crammer(A, b)"
   ]
  },
  {
   "cell_type": "code",
   "execution_count": 27,
   "metadata": {},
   "outputs": [
    {
     "data": {
      "text/plain": [
       "array([-1.00000000e+00,  2.00000000e+00, -1.48029737e-16,  1.00000000e+00])"
      ]
     },
     "execution_count": 27,
     "metadata": {},
     "output_type": "execute_result"
    }
   ],
   "source": [
    "np.linalg.solve(A,b)"
   ]
  },
  {
   "cell_type": "code",
   "execution_count": null,
   "metadata": {},
   "outputs": [],
   "source": []
  }
 ],
 "metadata": {
  "kernelspec": {
   "display_name": "Python 3",
   "language": "python",
   "name": "python3"
  },
  "language_info": {
   "codemirror_mode": {
    "name": "ipython",
    "version": 3
   },
   "file_extension": ".py",
   "mimetype": "text/x-python",
   "name": "python",
   "nbconvert_exporter": "python",
   "pygments_lexer": "ipython3",
   "version": "3.7.6"
  }
 },
 "nbformat": 4,
 "nbformat_minor": 4
}
