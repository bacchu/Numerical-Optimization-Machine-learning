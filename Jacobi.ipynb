{
 "cells": [
  {
   "cell_type": "markdown",
   "metadata": {},
   "source": [
    "# Jacobi Method"
   ]
  },
  {
   "cell_type": "code",
   "execution_count": 3,
   "metadata": {
    "colab": {},
    "colab_type": "code",
    "id": "G1ec_4jNSFys"
   },
   "outputs": [],
   "source": [
    "import numpy as np"
   ]
  },
  {
   "cell_type": "code",
   "execution_count": 4,
   "metadata": {
    "colab": {},
    "colab_type": "code",
    "id": "5IrYG9L9SQhe"
   },
   "outputs": [],
   "source": [
    "def jacobi(A,b, x0, tol, K):\n",
    "    x_iter = []\n",
    "    n = A.shape[0]\n",
    "    err = tol + 1\n",
    "    x = x0.copy()\n",
    "    k = 0\n",
    "    while err > tol and k < K:\n",
    "        xold = x.copy()\n",
    "        x = jacobiIter(A,b,xold)\n",
    "        x_iter.append(x)\n",
    "        k = k + 1\n",
    "        err = np.linalg.norm(x-xold,np.inf)/np.linalg.norm(x,np.inf)\n",
    "        #err = np.linalg.norm(x-xold,2)/np.linalg.norm(x,2)\n",
    "    print(k)\n",
    "    return x, x_iter\n",
    "\n",
    "\n",
    "\n",
    "def jacobiIter(A,b,xold):\n",
    "\n",
    "    n = A.shape[0]\n",
    "    x = np.zeros_like(xold)\n",
    "    for i in range(n):\n",
    "        s = 0\n",
    "        for j in range(n):\n",
    "            if j!=i:\n",
    "                s += A[i,j]*xold[j]\n",
    "        x[i] = (b[i]- s)/A[i,i]\n",
    "    return x"
   ]
  },
  {
   "cell_type": "code",
   "execution_count": 10,
   "metadata": {
    "colab": {
     "base_uri": "https://localhost:8080/",
     "height": 52
    },
    "colab_type": "code",
    "id": "YDuDEvKYuumF",
    "outputId": "4fcb15e5-1f70-4810-d633-ead895f6d97e"
   },
   "outputs": [
    {
     "name": "stdout",
     "output_type": "stream",
     "text": [
      "13\n",
      "[ 0.9909161  -0.98183318  0.81816961  0.96364228]\n"
     ]
    },
    {
     "data": {
      "text/plain": [
       "13"
      ]
     },
     "execution_count": 10,
     "metadata": {},
     "output_type": "execute_result"
    }
   ],
   "source": [
    "A = np. array([[2., 1., 0., 0.],\n",
    "               [2., 3.,  0., 1.],\n",
    "               [0., -1., -6., 2.],\n",
    "               [0., 2., 1., -4.]])\n",
    "\n",
    "b = np. array([1., 0., -2., -5 ]) \n",
    "\n",
    "tol = 0.0001\n",
    "K = 1000\n",
    "x0 = np.zeros(4)\n",
    "x, x_iter = jacobi(A,b, x0, tol, K)\n",
    "print(x)\n",
    "len(x_iter)"
   ]
  },
  {
   "cell_type": "code",
   "execution_count": 12,
   "metadata": {
    "colab": {
     "base_uri": "https://localhost:8080/",
     "height": 35
    },
    "colab_type": "code",
    "id": "ZdE2YuUlJB2_",
    "outputId": "55a66c2f-e802-4880-f05a-7e781bbc06e6"
   },
   "outputs": [
    {
     "data": {
      "text/plain": [
       "array([ 9.99999014e-01, -2.50615319e-05, -1.99989992e+00, -5.00006589e+00])"
      ]
     },
     "execution_count": 12,
     "metadata": {},
     "output_type": "execute_result"
    }
   ],
   "source": [
    "#Get b back\n",
    "A@x"
   ]
  },
  {
   "cell_type": "markdown",
   "metadata": {},
   "source": [
    "## Error Plot"
   ]
  },
  {
   "cell_type": "code",
   "execution_count": 13,
   "metadata": {
    "colab": {},
    "colab_type": "code",
    "id": "SSCB3Lf9uOtG"
   },
   "outputs": [],
   "source": [
    "def error(x_iter):\n",
    "    errors = []\n",
    "    for i in range(len(x_iter)):\n",
    "        err = np.linalg.norm(A@x_iter[i] - b)\n",
    "        errors.append(err)\n",
    "    return errors"
   ]
  },
  {
   "cell_type": "code",
   "execution_count": 14,
   "metadata": {},
   "outputs": [
    {
     "data": {
      "text/plain": [
       "0.00012241745481077155"
      ]
     },
     "execution_count": 14,
     "metadata": {},
     "output_type": "execute_result"
    }
   ],
   "source": [
    "err = error(x_iter)\n",
    "err[-1]"
   ]
  },
  {
   "cell_type": "code",
   "execution_count": 15,
   "metadata": {
    "scrolled": true
   },
   "outputs": [
    {
     "data": {
      "text/plain": [
       "[<matplotlib.lines.Line2D at 0x115121dd0>]"
      ]
     },
     "execution_count": 15,
     "metadata": {},
     "output_type": "execute_result"
    },
    {
     "data": {
      "image/png": "[encoded data removed]",
      "text/plain": [
       "<Figure size 432x288 with 1 Axes>"
      ]
     },
     "metadata": {
      "needs_background": "light"
     },
     "output_type": "display_data"
    }
   ],
   "source": [
    "import matplotlib.pyplot as plt\n",
    "\n",
    "plt.plot([i for i in range(len(x_iter))],err)"
   ]
  },
  {
   "cell_type": "markdown",
   "metadata": {},
   "source": [
    "# Compare with Gaussian Elimination with Partial Pivoting"
   ]
  },
  {
   "cell_type": "code",
   "execution_count": 16,
   "metadata": {},
   "outputs": [],
   "source": [
    "def gaussian_partial(A, b):\n",
    "    \n",
    "    n = A.shape[0]\n",
    "    \n",
    "    C=np.c_[A,b.reshape(-1,1)]\n",
    "    \n",
    "    flag = 0\n",
    "    \n",
    "    #column\n",
    "    for i in range(n-1):\n",
    "            \n",
    "        max_c, chosen_k  = 0, i\n",
    "        \n",
    "        #find the pivot\n",
    "        for k in range(i, n):\n",
    "            if np.abs(C[k,i]) > max_c:\n",
    "                max_c = np.abs(C[k,i])\n",
    "                chosen_k = k\n",
    "         \n",
    "        #Check if the pivot is zero\n",
    "        if max_c == 0:\n",
    "            flag = 1\n",
    "            break\n",
    "        \n",
    "        #interchange rows\n",
    "        if chosen_k != i:\n",
    "            #Swap 2 rows\n",
    "            temp = C[i,:].copy()\n",
    "            C[i,:] = C[chosen_k,:]\n",
    "            C[chosen_k,:] = temp\n",
    "    \n",
    "        \n",
    "        #row\n",
    "        for j in range(i+1, n):\n",
    "            \n",
    "            c = C[j,i]/C[i,i]\n",
    "            C[j,:] = C[j,:] - c*C[i,:]\n",
    "            \n",
    "    return C, flag\n",
    "        \n",
    "\n",
    "def backsubstitution(T):\n",
    "    \n",
    "    flag=0\n",
    "    n = T.shape[0]\n",
    "    X = np.zeros((n))\n",
    "    if T[n-1,n-1] == 0:\n",
    "        flag = 1\n",
    "    \n",
    "    else:\n",
    "    \n",
    "        X[n-1] = T[n-1,n]/T[n-1,n-1] \n",
    "\n",
    "        for i in range(n-2,-1,-1):\n",
    "            #Sum in row i\n",
    "            s = 0\n",
    "            for j in range(i+1, n):\n",
    "                s += T[i,j]*X[j]\n",
    "\n",
    "            X[i] = (T[i,n] - s)/T[i,i]\n",
    "    \n",
    "    return X, flag"
   ]
  },
  {
   "cell_type": "code",
   "execution_count": 17,
   "metadata": {},
   "outputs": [],
   "source": [
    "T, err = gaussian_partial(A,b)\n",
    "X, err = backsubstitution(T)"
   ]
  },
  {
   "cell_type": "code",
   "execution_count": 18,
   "metadata": {},
   "outputs": [
    {
     "data": {
      "text/plain": [
       "array([ 0.99090909, -0.98181818,  0.81818182,  0.96363636])"
      ]
     },
     "execution_count": 18,
     "metadata": {},
     "output_type": "execute_result"
    }
   ],
   "source": [
    "X"
   ]
  },
  {
   "cell_type": "code",
   "execution_count": 19,
   "metadata": {},
   "outputs": [
    {
     "data": {
      "text/plain": [
       "array([ 0.9909161 , -0.98183318,  0.81816961,  0.96364228])"
      ]
     },
     "execution_count": 19,
     "metadata": {},
     "output_type": "execute_result"
    }
   ],
   "source": [
    "x"
   ]
  },
  {
   "cell_type": "code",
   "execution_count": null,
   "metadata": {},
   "outputs": [],
   "source": []
  }
 ],
 "metadata": {
  "colab": {
   "collapsed_sections": [],
   "name": "jacobi.ipynb",
   "provenance": []
  },
  "kernelspec": {
   "display_name": "Python 3",
   "language": "python",
   "name": "python3"
  },
  "language_info": {
   "codemirror_mode": {
    "name": "ipython",
    "version": 3
   },
   "file_extension": ".py",
   "mimetype": "text/x-python",
   "name": "python",
   "nbconvert_exporter": "python",
   "pygments_lexer": "ipython3",
   "version": "3.7.6"
  }
 },
 "nbformat": 4,
 "nbformat_minor": 1
}
